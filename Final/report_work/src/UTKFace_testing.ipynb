{
 "cells": [
  {
   "cell_type": "code",
   "execution_count": 1,
   "metadata": {},
   "outputs": [],
   "source": [
    "import torch\n",
    "import torch.nn as nn\n",
    "import torch.optim as optim\n",
    "from torch.optim import lr_scheduler\n",
    "import torch.backends.cudnn as cudnn\n",
    "import numpy as np\n",
    "from torchvision import datasets, models, transforms\n",
    "import matplotlib.pyplot as plt\n",
    "import os\n",
    "import csv\n",
    "import pandas as pd\n",
    "import seaborn as sns\n",
    "cudnn.benchmark = True\n",
    "import sklearn.metrics as metrics\n",
    "from PIL import Image\n",
    "from prettytable import PrettyTable\n",
    "import cv2\n",
    "from tqdm import tqdm\n"
   ]
  },
  {
   "cell_type": "code",
   "execution_count": 2,
   "metadata": {},
   "outputs": [],
   "source": [
    "output_path = \"Z://RR/Final/report_work/results/Trained_on_FairFace_Testing/UTKFace_tests\"\n",
    "\n",
    "model_name = 'ResNet34_v21_5'\n",
    "model_path = F\"Z://RR/Final/report_work/saved_models/FairFace_All_Races_Testing/{model_name}.pt\"\n",
    "\n",
    "device = torch.device(\"cuda\" if torch.cuda.is_available() else \"cpu\")\n",
    "\n",
    "def show_image(file_path):\n",
    "\t# full_path = file_prefix + '/'+file_path\n",
    "\timg = cv2.imread(file_path)[:,:,::-1]\n",
    "\tplt.imshow(img)\n",
    "\tplt.show()\n",
    " \n",
    "dataframe_path = 'Z://RR/UTKFace/labels/processed_aligned_UTKFace.csv'\n",
    "UTKFace_df = pd.read_csv(dataframe_path).rename(columns={\"name\":\"file\"})\n",
    "\n",
    "UTKFace_df.drop(['Unnamed: 0','label'],axis =1,inplace = True)\n",
    "UTKFace_df = UTKFace_df[UTKFace_df['ethnicity'] != 'Others']\n",
    "UTKFace_df['prediction'] = \"\""
   ]
  },
  {
   "cell_type": "code",
   "execution_count": 3,
   "metadata": {},
   "outputs": [],
   "source": [
    "mean = np.array([0.485, 0.456, 0.406])\n",
    "std = np.array([0.229, 0.224, 0.225])\n",
    "\n",
    "data_transforms = {\n",
    "\t'test': transforms.Compose([ #compose several transforms together\n",
    "\t\ttransforms.Resize(224),\n",
    "\t\ttransforms.RandomHorizontalFlip(),\n",
    "\t\ttransforms.ToTensor(),\n",
    "\t\t# transforms.Normalize(mean, std)\n",
    "\t]),\n",
    "}"
   ]
  },
  {
   "cell_type": "code",
   "execution_count": 4,
   "metadata": {},
   "outputs": [],
   "source": [
    "def load_checkpoint(model, load_path):\n",
    "\tif torch.cuda.is_available():\n",
    "\t\t\n",
    "\t\tcheckpoint = torch.load(load_path)\n",
    "\telse:\n",
    "\t\tcheckpoint = torch.load(load_path,map_location=torch.device('cpu'))\n",
    "\t\t\n",
    "\tmodel.load_state_dict(checkpoint['model_state_dict'])\n",
    "\n",
    "\treturn model\n",
    "\n",
    "\n",
    "def get_model_data(class_names):\n",
    "\tweights = models.ResNet34_Weights.DEFAULT\n",
    "\tmodel_ft = models.resnet34(weights = weights)\n",
    "\tnum_ftrs = model_ft.fc.in_features\n",
    " \n",
    "\tmodel_ft.fc = nn.Linear(num_ftrs,len(class_names))\n",
    " \n",
    "\tmodel_ft= load_checkpoint(model_ft, model_path)\n",
    " \n",
    "\tmodel_ft = model_ft.to(device)\n",
    "\tmodel_ft.eval()\n",
    " \n",
    "\treturn model_ft\n",
    "\n",
    "def get_pred(model,file):\n",
    "\timg = Image.open(file)\n",
    "\tinput = data_transforms['test'](img)\n",
    "\tinput = input.unsqueeze(0)\n",
    "\tinput = input.to(device)\n",
    "\twith torch.set_grad_enabled(False):\n",
    "\t\toutput = model(input)\n",
    "\t\t_, preds = torch.max(output, 1)\n",
    "\t\n",
    "\treturn preds[0].item() \n",
    "\t"
   ]
  },
  {
   "cell_type": "code",
   "execution_count": 5,
   "metadata": {},
   "outputs": [],
   "source": [
    "class_names = UTKFace_df.age_group.value_counts().reset_index(name = \"count\").rename(columns={\"index\":\"age\"})['age']\n",
    "model = get_model_data(class_names)"
   ]
  },
  {
   "cell_type": "code",
   "execution_count": 6,
   "metadata": {},
   "outputs": [
    {
     "name": "stderr",
     "output_type": "stream",
     "text": [
      "100%|██████████| 22016/22016 [41:49<00:00,  8.77it/s] \n"
     ]
    }
   ],
   "source": [
    "\n",
    "for index in tqdm(UTKFace_df.index):\n",
    "    \n",
    "\t# record = UTKFace_df.iloc[index]\n",
    "\tpath = UTKFace_df.at[index,'file']\n",
    "\tif os.path.isfile(path):\n",
    "\t\tclass_pred = get_pred(model,path)\n",
    "\t\n",
    "\t\tUTKFace_df.at[index,'prediction'] = class_pred"
   ]
  },
  {
   "cell_type": "code",
   "execution_count": 7,
   "metadata": {},
   "outputs": [],
   "source": [
    "UTKFace_df = UTKFace_df[UTKFace_df['prediction'].notna()]\n",
    "UTKFace_df = UTKFace_df[UTKFace_df.prediction.map(type)==int]\n",
    "\n",
    "age_dist = UTKFace_df.age_group.value_counts().reset_index(name = \"count\").rename(columns={\"index\":\"age\"})\n",
    "age_dist.sort_values(by = ['age'],inplace=True)\n",
    "age_dist = age_dist.reset_index(drop=True)\n",
    "age_groups = age_dist['age']"
   ]
  },
  {
   "cell_type": "code",
   "execution_count": 12,
   "metadata": {},
   "outputs": [],
   "source": [
    "def convert(pred):\n",
    "    for i,group in enumerate(age_groups):\n",
    "        if group == pred:\n",
    "            return i"
   ]
  },
  {
   "cell_type": "code",
   "execution_count": 13,
   "metadata": {},
   "outputs": [],
   "source": [
    "UTKFace_df['pred_age_group'] = UTKFace_df['prediction'].apply(lambda x: age_groups[x])\n",
    "UTKFace_df['true'] = UTKFace_df['age_group'].apply(lambda x: convert(x))\n"
   ]
  },
  {
   "cell_type": "code",
   "execution_count": 19,
   "metadata": {},
   "outputs": [
    {
     "data": {
      "text/html": [
       "<div>\n",
       "<style scoped>\n",
       "    .dataframe tbody tr th:only-of-type {\n",
       "        vertical-align: middle;\n",
       "    }\n",
       "\n",
       "    .dataframe tbody tr th {\n",
       "        vertical-align: top;\n",
       "    }\n",
       "\n",
       "    .dataframe thead th {\n",
       "        text-align: right;\n",
       "    }\n",
       "</style>\n",
       "<table border=\"1\" class=\"dataframe\">\n",
       "  <thead>\n",
       "    <tr style=\"text-align: right;\">\n",
       "      <th></th>\n",
       "      <th>file</th>\n",
       "      <th>age</th>\n",
       "      <th>gender</th>\n",
       "      <th>ethnicity</th>\n",
       "      <th>age_group</th>\n",
       "      <th>new_ethnicity</th>\n",
       "      <th>prediction</th>\n",
       "      <th>pred_age_group</th>\n",
       "      <th>true</th>\n",
       "    </tr>\n",
       "  </thead>\n",
       "  <tbody>\n",
       "    <tr>\n",
       "      <th>0</th>\n",
       "      <td>Z://RR/UTKFace/utkface_aligned_cropped/UTKFace...</td>\n",
       "      <td>100</td>\n",
       "      <td>0</td>\n",
       "      <td>white</td>\n",
       "      <td>more_than_70</td>\n",
       "      <td>white</td>\n",
       "      <td>8</td>\n",
       "      <td>more_than_70</td>\n",
       "      <td>8</td>\n",
       "    </tr>\n",
       "    <tr>\n",
       "      <th>1</th>\n",
       "      <td>Z://RR/UTKFace/utkface_aligned_cropped/UTKFace...</td>\n",
       "      <td>100</td>\n",
       "      <td>0</td>\n",
       "      <td>white</td>\n",
       "      <td>more_than_70</td>\n",
       "      <td>white</td>\n",
       "      <td>8</td>\n",
       "      <td>more_than_70</td>\n",
       "      <td>8</td>\n",
       "    </tr>\n",
       "    <tr>\n",
       "      <th>2</th>\n",
       "      <td>Z://RR/UTKFace/utkface_aligned_cropped/UTKFace...</td>\n",
       "      <td>100</td>\n",
       "      <td>1</td>\n",
       "      <td>white</td>\n",
       "      <td>more_than_70</td>\n",
       "      <td>white</td>\n",
       "      <td>8</td>\n",
       "      <td>more_than_70</td>\n",
       "      <td>8</td>\n",
       "    </tr>\n",
       "    <tr>\n",
       "      <th>3</th>\n",
       "      <td>Z://RR/UTKFace/utkface_aligned_cropped/UTKFace...</td>\n",
       "      <td>100</td>\n",
       "      <td>1</td>\n",
       "      <td>white</td>\n",
       "      <td>more_than_70</td>\n",
       "      <td>white</td>\n",
       "      <td>8</td>\n",
       "      <td>more_than_70</td>\n",
       "      <td>8</td>\n",
       "    </tr>\n",
       "    <tr>\n",
       "      <th>4</th>\n",
       "      <td>Z://RR/UTKFace/utkface_aligned_cropped/UTKFace...</td>\n",
       "      <td>100</td>\n",
       "      <td>1</td>\n",
       "      <td>white</td>\n",
       "      <td>more_than_70</td>\n",
       "      <td>white</td>\n",
       "      <td>8</td>\n",
       "      <td>more_than_70</td>\n",
       "      <td>8</td>\n",
       "    </tr>\n",
       "  </tbody>\n",
       "</table>\n",
       "</div>"
      ],
      "text/plain": [
       "                                                file  age  gender ethnicity  \\\n",
       "0  Z://RR/UTKFace/utkface_aligned_cropped/UTKFace...  100       0     white   \n",
       "1  Z://RR/UTKFace/utkface_aligned_cropped/UTKFace...  100       0     white   \n",
       "2  Z://RR/UTKFace/utkface_aligned_cropped/UTKFace...  100       1     white   \n",
       "3  Z://RR/UTKFace/utkface_aligned_cropped/UTKFace...  100       1     white   \n",
       "4  Z://RR/UTKFace/utkface_aligned_cropped/UTKFace...  100       1     white   \n",
       "\n",
       "      age_group new_ethnicity prediction pred_age_group  true  \n",
       "0  more_than_70         white          8   more_than_70     8  \n",
       "1  more_than_70         white          8   more_than_70     8  \n",
       "2  more_than_70         white          8   more_than_70     8  \n",
       "3  more_than_70         white          8   more_than_70     8  \n",
       "4  more_than_70         white          8   more_than_70     8  "
      ]
     },
     "execution_count": 19,
     "metadata": {},
     "output_type": "execute_result"
    }
   ],
   "source": [
    "UTKFace_df.head()"
   ]
  },
  {
   "cell_type": "code",
   "execution_count": 11,
   "metadata": {},
   "outputs": [],
   "source": [
    "UTKFace_df.to_csv(output_path+'/UTKFace_results.csv')"
   ]
  },
  {
   "cell_type": "code",
   "execution_count": 32,
   "metadata": {},
   "outputs": [],
   "source": [
    "def convert_one_off(t,pred):\n",
    "\tif t == pred:\n",
    "\t\treturn t\n",
    "\n",
    "\tif pred != 0:\n",
    "\t\tif (pred-1) == t:\n",
    "\t\t\treturn t\n",
    "\n",
    "\tif pred != 8:\n",
    "\t\tif (pred+1) == t:\n",
    "\t\t\treturn t\n",
    "\t\n",
    "\treturn pred"
   ]
  },
  {
   "cell_type": "code",
   "execution_count": 40,
   "metadata": {},
   "outputs": [
    {
     "data": {
      "text/plain": [
       "'Z://RR/Final/report_work/results/Trained_on_FairFace_Testing/FairFace_tests'"
      ]
     },
     "execution_count": 40,
     "metadata": {},
     "output_type": "execute_result"
    }
   ],
   "source": [
    "output_path"
   ]
  },
  {
   "cell_type": "code",
   "execution_count": 36,
   "metadata": {},
   "outputs": [],
   "source": [
    "\n",
    "UTKFace_df['pred_one_off'] = UTKFace_df.apply(lambda x: convert_one_off(x['true'],x['prediction']),axis=1)\n",
    "# UTKFace_df.assign(pred_one_off = lambda x: convert_one_off(UTKFace_df['true'],UTKFace_df['prediction']))\n"
   ]
  },
  {
   "cell_type": "code",
   "execution_count": 37,
   "metadata": {},
   "outputs": [
    {
     "data": {
      "text/html": [
       "<div>\n",
       "<style scoped>\n",
       "    .dataframe tbody tr th:only-of-type {\n",
       "        vertical-align: middle;\n",
       "    }\n",
       "\n",
       "    .dataframe tbody tr th {\n",
       "        vertical-align: top;\n",
       "    }\n",
       "\n",
       "    .dataframe thead th {\n",
       "        text-align: right;\n",
       "    }\n",
       "</style>\n",
       "<table border=\"1\" class=\"dataframe\">\n",
       "  <thead>\n",
       "    <tr style=\"text-align: right;\">\n",
       "      <th></th>\n",
       "      <th>file</th>\n",
       "      <th>age</th>\n",
       "      <th>gender</th>\n",
       "      <th>ethnicity</th>\n",
       "      <th>age_group</th>\n",
       "      <th>new_ethnicity</th>\n",
       "      <th>prediction</th>\n",
       "      <th>pred_age_group</th>\n",
       "      <th>true</th>\n",
       "      <th>pred_one_off</th>\n",
       "    </tr>\n",
       "  </thead>\n",
       "  <tbody>\n",
       "    <tr>\n",
       "      <th>0</th>\n",
       "      <td>Z://RR/UTKFace/utkface_aligned_cropped/UTKFace...</td>\n",
       "      <td>100</td>\n",
       "      <td>0</td>\n",
       "      <td>white</td>\n",
       "      <td>more_than_70</td>\n",
       "      <td>white</td>\n",
       "      <td>8</td>\n",
       "      <td>more_than_70</td>\n",
       "      <td>8</td>\n",
       "      <td>8</td>\n",
       "    </tr>\n",
       "    <tr>\n",
       "      <th>1</th>\n",
       "      <td>Z://RR/UTKFace/utkface_aligned_cropped/UTKFace...</td>\n",
       "      <td>100</td>\n",
       "      <td>0</td>\n",
       "      <td>white</td>\n",
       "      <td>more_than_70</td>\n",
       "      <td>white</td>\n",
       "      <td>8</td>\n",
       "      <td>more_than_70</td>\n",
       "      <td>8</td>\n",
       "      <td>8</td>\n",
       "    </tr>\n",
       "    <tr>\n",
       "      <th>2</th>\n",
       "      <td>Z://RR/UTKFace/utkface_aligned_cropped/UTKFace...</td>\n",
       "      <td>100</td>\n",
       "      <td>1</td>\n",
       "      <td>white</td>\n",
       "      <td>more_than_70</td>\n",
       "      <td>white</td>\n",
       "      <td>8</td>\n",
       "      <td>more_than_70</td>\n",
       "      <td>8</td>\n",
       "      <td>8</td>\n",
       "    </tr>\n",
       "    <tr>\n",
       "      <th>3</th>\n",
       "      <td>Z://RR/UTKFace/utkface_aligned_cropped/UTKFace...</td>\n",
       "      <td>100</td>\n",
       "      <td>1</td>\n",
       "      <td>white</td>\n",
       "      <td>more_than_70</td>\n",
       "      <td>white</td>\n",
       "      <td>8</td>\n",
       "      <td>more_than_70</td>\n",
       "      <td>8</td>\n",
       "      <td>8</td>\n",
       "    </tr>\n",
       "    <tr>\n",
       "      <th>4</th>\n",
       "      <td>Z://RR/UTKFace/utkface_aligned_cropped/UTKFace...</td>\n",
       "      <td>100</td>\n",
       "      <td>1</td>\n",
       "      <td>white</td>\n",
       "      <td>more_than_70</td>\n",
       "      <td>white</td>\n",
       "      <td>8</td>\n",
       "      <td>more_than_70</td>\n",
       "      <td>8</td>\n",
       "      <td>8</td>\n",
       "    </tr>\n",
       "  </tbody>\n",
       "</table>\n",
       "</div>"
      ],
      "text/plain": [
       "                                                file  age  gender ethnicity  \\\n",
       "0  Z://RR/UTKFace/utkface_aligned_cropped/UTKFace...  100       0     white   \n",
       "1  Z://RR/UTKFace/utkface_aligned_cropped/UTKFace...  100       0     white   \n",
       "2  Z://RR/UTKFace/utkface_aligned_cropped/UTKFace...  100       1     white   \n",
       "3  Z://RR/UTKFace/utkface_aligned_cropped/UTKFace...  100       1     white   \n",
       "4  Z://RR/UTKFace/utkface_aligned_cropped/UTKFace...  100       1     white   \n",
       "\n",
       "      age_group new_ethnicity prediction pred_age_group  true  pred_one_off  \n",
       "0  more_than_70         white          8   more_than_70     8             8  \n",
       "1  more_than_70         white          8   more_than_70     8             8  \n",
       "2  more_than_70         white          8   more_than_70     8             8  \n",
       "3  more_than_70         white          8   more_than_70     8             8  \n",
       "4  more_than_70         white          8   more_than_70     8             8  "
      ]
     },
     "execution_count": 37,
     "metadata": {},
     "output_type": "execute_result"
    }
   ],
   "source": [
    "UTKFace_df.head()"
   ]
  },
  {
   "cell_type": "code",
   "execution_count": 39,
   "metadata": {},
   "outputs": [],
   "source": [
    "UTKFace_df.to_csv(output_path+'/UTKFace_results_one_off.csv')\n"
   ]
  }
 ],
 "metadata": {
  "kernelspec": {
   "display_name": "Python 3.9.4 64-bit",
   "language": "python",
   "name": "python3"
  },
  "language_info": {
   "codemirror_mode": {
    "name": "ipython",
    "version": 3
   },
   "file_extension": ".py",
   "mimetype": "text/x-python",
   "name": "python",
   "nbconvert_exporter": "python",
   "pygments_lexer": "ipython3",
   "version": "3.9.4"
  },
  "orig_nbformat": 4,
  "vscode": {
   "interpreter": {
    "hash": "01b0da322a7df2b881bf69dce4c75684d5ac75b853286a49a713693279c2c23c"
   }
  }
 },
 "nbformat": 4,
 "nbformat_minor": 2
}
